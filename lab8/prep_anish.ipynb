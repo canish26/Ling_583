{
 "cells": [
  {
   "cell_type": "code",
   "execution_count": 1,
   "id": "3f905734",
   "metadata": {},
   "outputs": [
    {
     "name": "stdout",
     "output_type": "stream",
     "text": [
      "zsh:1: no matches found: huggingface_hub[cli]\r\n"
     ]
    }
   ],
   "source": [
    "!pip install -q -U datasets neptune neptune-pytorch torchtext transformers bitsandbytes huggingface_hub[cli]"
   ]
  },
  {
   "cell_type": "code",
   "execution_count": 2,
   "id": "c15a9a02",
   "metadata": {},
   "outputs": [],
   "source": [
    "import os\n",
    "\n",
    "os.environ['NEPTUNE_PROJECT'] = 'ling583/ling583-anish'\n",
    "os.environ[\n",
    "    'NEPTUNE_API_TOKEN'] = 'eyJhcGlfYWRkcmVzcyI6Imh0dHBzOi8vYXBwLm5lcHR1bmUuYWkiLCJhcGlfdXJsIjoiaHR0cHM6Ly9hcHAubmVwdHVuZS5haSIsImFwaV9rZXkiOiIxNzU4ZjdlZi1lZjhkLTQxZmItOGYzOC03ZThkMDVlMDVmZWUifQ=='"
   ]
  },
  {
   "cell_type": "code",
   "execution_count": 3,
   "id": "1c269678",
   "metadata": {},
   "outputs": [
    {
     "name": "stderr",
     "output_type": "stream",
     "text": [
      "/Users/anishchintamaneni/anaconda3/lib/python3.10/site-packages/tqdm/auto.py:22: TqdmWarning: IProgress not found. Please update jupyter and ipywidgets. See https://ipywidgets.readthedocs.io/en/stable/user_install.html\n",
      "  from .autonotebook import tqdm as notebook_tqdm\n"
     ]
    }
   ],
   "source": [
    "import pandas as pd\n",
    "import neptune\n",
    "from sklearn.metrics import accuracy_score, classification_report, f1_score\n",
    "from sklearn.model_selection import train_test_split\n",
    "from sklearn.pipeline import make_pipeline\n",
    "from sklearn.svm import LinearSVC\n",
    "from sklearn.feature_extraction.text import TfidfVectorizer\n",
    "from datasets import Dataset, DatasetDict\n",
    "\n",
    "pd.options.mode.copy_on_write = True\n",
    "pd.options.display.max_colwidth = 500"
   ]
  },
  {
   "cell_type": "code",
   "execution_count": 4,
   "id": "c561f151",
   "metadata": {},
   "outputs": [
    {
     "data": {
      "text/plain": [
       "(500, 1000, 1000, 250)"
      ]
     },
     "execution_count": 4,
     "metadata": {},
     "output_type": "execute_result"
    }
   ],
   "source": [
    "df = pd.read_json(\"hf://datasets/jonathanli/legal-advice-reddit/test.jsonl\", lines=True)\n",
    "df[\"label\"] = df[\"text_label\"]\n",
    "df[\"text\"] = df[\"title\"] + \" \" + df[\"body\"]\n",
    "\n",
    "df, train_df = train_test_split(\n",
    "    df, test_size=500, stratify=df[\"text_label\"], random_state=1\n",
    ")\n",
    "df, valid_df = train_test_split(\n",
    "    df, test_size=1000, stratify=df[\"text_label\"], random_state=1\n",
    ")\n",
    "df, test_df = train_test_split(\n",
    "    df, test_size=1000, stratify=df[\"text_label\"], random_state=1\n",
    ")\n",
    "df, minitest_df = train_test_split(\n",
    "    df, test_size=250, stratify=df[\"text_label\"], random_state=1\n",
    ")\n",
    "\n",
    "len(train_df), len(valid_df), len(test_df), len(minitest_df)\n"
   ]
  },
  {
   "cell_type": "code",
   "execution_count": 5,
   "id": "51f9e1a6",
   "metadata": {},
   "outputs": [
    {
     "name": "stderr",
     "output_type": "stream",
     "text": [
      "Casting to class labels: 100%|██████| 500/500 [00:00<00:00, 86295.45 examples/s]\n",
      "Casting to class labels: 100%|███| 1000/1000 [00:00<00:00, 225828.03 examples/s]\n",
      "Casting to class labels: 100%|███| 1000/1000 [00:00<00:00, 263792.70 examples/s]\n",
      "Casting to class labels: 100%|██████| 250/250 [00:00<00:00, 92695.90 examples/s]\n",
      "Saving the dataset (1/1 shards): 100%|█| 500/500 [00:00<00:00, 173476.05 example\n",
      "Saving the dataset (1/1 shards): 100%|█| 1000/1000 [00:00<00:00, 284263.23 examp\n",
      "Saving the dataset (1/1 shards): 100%|█| 1000/1000 [00:00<00:00, 312238.81 examp\n",
      "Saving the dataset (1/1 shards): 100%|█| 250/250 [00:00<00:00, 74031.06 examples\n"
     ]
    }
   ],
   "source": [
    "dataset = DatasetDict()\n",
    "dataset[\"train\"] = Dataset.from_pandas(train_df)\n",
    "dataset[\"valid\"] = Dataset.from_pandas(valid_df)\n",
    "dataset[\"test\"] = Dataset.from_pandas(test_df)\n",
    "dataset[\"minitest\"] = Dataset.from_pandas(minitest_df)\n",
    "\n",
    "dataset = dataset.class_encode_column(\"label\")\n",
    "\n",
    "dataset.save_to_disk(\"lab08_dataset\")"
   ]
  },
  {
   "cell_type": "code",
   "execution_count": 6,
   "id": "8df8c89c",
   "metadata": {},
   "outputs": [
    {
     "name": "stdout",
     "output_type": "stream",
     "text": [
      "              precision    recall  f1-score   support\n",
      "\n",
      "    business       0.48      0.55      0.52        58\n",
      "    contract       0.44      0.62      0.51        52\n",
      "    criminal       0.79      0.12      0.22        88\n",
      "     digital       0.33      0.02      0.04        53\n",
      "     driving       0.77      0.28      0.42        95\n",
      "  employment       0.85      0.14      0.24       161\n",
      "      family       0.31      0.22      0.26       121\n",
      "     housing       0.32      0.71      0.44       241\n",
      "   insurance       0.50      0.91      0.65        44\n",
      "      school       0.43      0.80      0.56        44\n",
      "       wills       0.00      0.00      0.00        43\n",
      "\n",
      "    accuracy                           0.40      1000\n",
      "   macro avg       0.47      0.40      0.35      1000\n",
      "weighted avg       0.50      0.40      0.35      1000\n",
      "\n"
     ]
    }
   ],
   "source": [
    "svm = make_pipeline(TfidfVectorizer(lowercase=True), LinearSVC(C=1, dual=\"auto\"))\n",
    "svm.fit(dataset[\"train\"][\"text_label\"], dataset[\"train\"][\"text_label\"])\n",
    "predicted = svm.predict(dataset[\"test\"][\"text\"])\n",
    "print(classification_report(dataset[\"test\"][\"text_label\"], predicted, zero_division=0))"
   ]
  },
  {
   "cell_type": "code",
   "execution_count": 7,
   "id": "d340258e",
   "metadata": {},
   "outputs": [
    {
     "name": "stdout",
     "output_type": "stream",
     "text": [
      "              precision    recall  f1-score   support\n",
      "\n",
      "    business       0.50      0.40      0.44        15\n",
      "    contract       0.33      0.46      0.39        13\n",
      "    criminal       0.40      0.09      0.15        22\n",
      "     digital       0.00      0.00      0.00        13\n",
      "     driving       0.50      0.08      0.14        24\n",
      "  employment       0.67      0.05      0.09        40\n",
      "      family       0.32      0.27      0.29        30\n",
      "     housing       0.27      0.65      0.39        60\n",
      "   insurance       0.44      1.00      0.61        11\n",
      "      school       0.47      0.64      0.54        11\n",
      "       wills       1.00      0.09      0.17        11\n",
      "\n",
      "    accuracy                           0.34       250\n",
      "   macro avg       0.45      0.34      0.29       250\n",
      "weighted avg       0.43      0.34      0.27       250\n",
      "\n"
     ]
    }
   ],
   "source": [
    "mini_predicted = svm.predict(dataset[\"minitest\"][\"text\"])\n",
    "print(\n",
    "    classification_report(\n",
    "        dataset[\"minitest\"][\"text_label\"], mini_predicted, zero_division=0\n",
    "    )\n",
    ")"
   ]
  },
  {
   "cell_type": "code",
   "execution_count": 8,
   "id": "e938f11c",
   "metadata": {},
   "outputs": [
    {
     "name": "stderr",
     "output_type": "stream",
     "text": [
      "[neptune] [warning] NeptuneWarning: The following monitoring options are disabled by default in interactive sessions: 'capture_stdout', 'capture_stderr', 'capture_traceback', and 'capture_hardware_metrics'. To enable them, set each parameter to 'True' when initializing the run. The monitoring will continue until you call run.stop() or the kernel stops. Also note: Your source files can only be tracked if you pass the path(s) to the 'source_code' argument. For help, see the Neptune docs: https://docs.neptune.ai/logging/source_code/\n"
     ]
    },
    {
     "name": "stdout",
     "output_type": "stream",
     "text": [
      "[neptune] [info   ] Neptune initialized. Open in the app: https://app.neptune.ai/ling583/ling583-anish/e/LING-46\n",
      "[neptune] [info   ] Shutting down background jobs, please wait a moment...\n",
      "[neptune] [info   ] Done!\n",
      "[neptune] [info   ] Waiting for the remaining 5 operations to synchronize with Neptune. Do not kill this process.\n",
      "[neptune] [info   ] All 5 operations synced, thanks for waiting!\n",
      "[neptune] [info   ] Explore the metadata in the Neptune app: https://app.neptune.ai/ling583/ling583-anish/e/LING-46/metadata\n"
     ]
    }
   ],
   "source": [
    "run = neptune.init_run(\n",
    "    name=\"LinearSVC\",\n",
    "    description=\"TfidfVectorizer()+LinearSVC() with C=1\",\n",
    "    tags=[\"lab-08\"],\n",
    ")\n",
    "\n",
    "run[\"dataset\"].track_files(\"lab08_dataset\")\n",
    "\n",
    "run[\"score/accuracy\"] = accuracy_score(dataset[\"test\"][\"text_label\"], predicted)\n",
    "run[\"score/f1_macro\"] = f1_score(\n",
    "    dataset[\"test\"][\"text_label\"], predicted, average=\"macro\"\n",
    ")\n",
    "run[\"score/mini_accuracy\"] = accuracy_score(\n",
    "    dataset[\"minitest\"][\"text_label\"], mini_predicted\n",
    ")\n",
    "run[\"score/mini_f1_macro\"] = f1_score(\n",
    "    dataset[\"minitest\"][\"text_label\"], mini_predicted, average=\"macro\"\n",
    ")\n",
    "\n",
    "\n",
    "run.stop()"
   ]
  },
  {
   "cell_type": "code",
   "execution_count": null,
   "id": "a4216f88",
   "metadata": {},
   "outputs": [],
   "source": []
  }
 ],
 "metadata": {
  "kernelspec": {
   "display_name": "Python 3 (ipykernel)",
   "language": "python",
   "name": "python3"
  },
  "language_info": {
   "codemirror_mode": {
    "name": "ipython",
    "version": 3
   },
   "file_extension": ".py",
   "mimetype": "text/x-python",
   "name": "python",
   "nbconvert_exporter": "python",
   "pygments_lexer": "ipython3",
   "version": "3.10.13"
  }
 },
 "nbformat": 4,
 "nbformat_minor": 5
}
