{
 "cells": [
  {
   "cell_type": "code",
   "execution_count": 3,
   "id": "78a1d53f-49d7-42cf-bc83-7c37eee5ac83",
   "metadata": {},
   "outputs": [],
   "source": [
    "!pip install -q spacy sentence-transformers colorcet"
   ]
  },
  {
   "cell_type": "code",
   "execution_count": null,
   "id": "29cb2e76-ffcd-46e7-9dfa-836ca79fe80c",
   "metadata": {},
   "outputs": [],
   "source": []
  }
 ],
 "metadata": {
  "kernelspec": {
   "display_name": "Python 3 (ipykernel)",
   "language": "python",
   "name": "python3"
  },
  "language_info": {
   "codemirror_mode": {
    "name": "ipython",
    "version": 3
   },
   "file_extension": ".py",
   "mimetype": "text/x-python",
   "name": "python",
   "nbconvert_exporter": "python",
   "pygments_lexer": "ipython3",
   "version": "3.10.13"
  }
 },
 "nbformat": 4,
 "nbformat_minor": 5
}
